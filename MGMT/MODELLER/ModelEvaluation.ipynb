version https://git-lfs.github.com/spec/v1
oid sha256:25870004b97ed7030fe6e484c4d1628cb1adb4366ccd39a30f95006f8ddc90c2
size 2808713
