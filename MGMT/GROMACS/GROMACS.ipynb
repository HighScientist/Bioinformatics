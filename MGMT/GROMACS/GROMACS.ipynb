version https://git-lfs.github.com/spec/v1
oid sha256:9228f2d80877ece37f1ceb7d536fd6b11f80bc32d9b1d8fe692335858ab88746
size 1786427
