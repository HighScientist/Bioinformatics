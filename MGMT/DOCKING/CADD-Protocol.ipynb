version https://git-lfs.github.com/spec/v1
oid sha256:8ccd5c2b9aeea8bf6acf321d0584900d90bb2c3bec23cf0b1d567d8465a3bdb5
size 582699
