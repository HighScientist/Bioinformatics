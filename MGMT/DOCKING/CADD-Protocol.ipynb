version https://git-lfs.github.com/spec/v1
oid sha256:66d527834fe873483c484dae4aaf028321ae0162a377209880e64fb17c992211
size 1096518
