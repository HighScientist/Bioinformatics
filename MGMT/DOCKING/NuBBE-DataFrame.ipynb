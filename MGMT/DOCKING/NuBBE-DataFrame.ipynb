version https://git-lfs.github.com/spec/v1
oid sha256:342a4db2366dce7b102693add60bf5e5c68a371c03960770068f2d56a7c9cf2b
size 953901
