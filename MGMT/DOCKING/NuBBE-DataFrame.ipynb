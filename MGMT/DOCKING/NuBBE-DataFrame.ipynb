version https://git-lfs.github.com/spec/v1
oid sha256:852255abd5e9e53619b6d3b07b091ef77cd9796b1d068063ced0179b2115094f
size 943838
