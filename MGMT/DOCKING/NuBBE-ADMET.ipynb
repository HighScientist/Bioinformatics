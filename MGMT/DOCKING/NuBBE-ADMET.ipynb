version https://git-lfs.github.com/spec/v1
oid sha256:12601579e3f0521c3fc6dc9b2479dc884d78040b4a377c16952acce900439a03
size 96263
