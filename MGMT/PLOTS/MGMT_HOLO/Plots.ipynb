version https://git-lfs.github.com/spec/v1
oid sha256:50f9c95e58e0a717bd422c54acec8c83fcfa9ce3ce4ae3a4f3a2478b5127abdc
size 257427
