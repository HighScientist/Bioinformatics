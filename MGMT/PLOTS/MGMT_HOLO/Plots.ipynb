version https://git-lfs.github.com/spec/v1
oid sha256:facf73cffea5c4c20cf35c88f7e3a6fc48228c92a7aa11fa1835d4095f41591d
size 867685
