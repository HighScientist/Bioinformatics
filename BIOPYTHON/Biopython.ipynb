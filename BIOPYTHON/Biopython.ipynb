{
 "cells": [
  {
   "cell_type": "code",
   "execution_count": 24,
   "metadata": {},
   "outputs": [
    {
     "name": "stdout",
     "output_type": "stream",
     "text": [
      "\u001b[34mTable 1 Standard, SGC0\n",
      "\n",
      "  |  T      |  C      |  A      |  G      |\n",
      "--+---------+---------+---------+---------+--\n",
      "T | TTT F   | TCT S   | TAT Y   | TGT C   | T\n",
      "T | TTC F   | TCC S   | TAC Y   | TGC C   | C\n",
      "T | TTA L   | TCA S   | TAA Stop| TGA Stop| A\n",
      "T | TTG L(s)| TCG S   | TAG Stop| TGG W   | G\n",
      "--+---------+---------+---------+---------+--\n",
      "C | CTT L   | CCT P   | CAT H   | CGT R   | T\n",
      "C | CTC L   | CCC P   | CAC H   | CGC R   | C\n",
      "C | CTA L   | CCA P   | CAA Q   | CGA R   | A\n",
      "C | CTG L(s)| CCG P   | CAG Q   | CGG R   | G\n",
      "--+---------+---------+---------+---------+--\n",
      "A | ATT I   | ACT T   | AAT N   | AGT S   | T\n",
      "A | ATC I   | ACC T   | AAC N   | AGC S   | C\n",
      "A | ATA I   | ACA T   | AAA K   | AGA R   | A\n",
      "A | ATG M(s)| ACG T   | AAG K   | AGG R   | G\n",
      "--+---------+---------+---------+---------+--\n",
      "G | GTT V   | GCT A   | GAT D   | GGT G   | T\n",
      "G | GTC V   | GCC A   | GAC D   | GGC G   | C\n",
      "G | GTA V   | GCA A   | GAA E   | GGA G   | A\n",
      "G | GTG V   | GCG A   | GAG E   | GGG G   | G\n",
      "--+---------+---------+---------+---------+--\n"
     ]
    }
   ],
   "source": [
    "from Bio.Data import CodonTable\n",
    "#Tabela do Código Genético\n",
    "standard_table = CodonTable.unambiguous_dna_by_name[\"Standard\"] #Código Genético Padrão\n",
    "mitochondria_table = CodonTable.unambiguous_dna_by_name[\"Vertebrate Mitochondrial\"] #Código Genético de DNA Mitocondrial\n",
    "print(f'\\033[34m{standard_table}')\n",
    "#print(mitochondria_table)"
   ]
  },
  {
   "cell_type": "code",
   "execution_count": null,
   "metadata": {},
   "outputs": [],
   "source": [
    "#Função para Ler o Arquivo PDB sem usar Biopython\n",
    "def ReadPDBFile(filename):\n",
    "    file = open(filename, 'r')\n",
    "    lines = file.readlines()\n",
    "    file.close()\n",
    "    return lines\n",
    "#Função para mostrar o arquivo PDB de forma legível\n",
    "def PrintFile(lines):\n",
    "    for l in lines:\n",
    "        l = l.rstrip('\\n')\n",
    "        print(l)\n",
    "        \n",
    "lines = ReadPDBFile('1t38_DNABound.pdb') #Armazena a informação do arquivo na variável lines\n",
    "PrintFile(lines)\n"
   ]
  },
  {
   "cell_type": "code",
   "execution_count": 68,
   "metadata": {},
   "outputs": [
    {
     "name": "stdout",
     "output_type": "stream",
     "text": [
      "{'1': {'misc': '', 'molecule': 'o6-alkylguanine-dna alkyltransferase', 'chain': 'a', 'synonym': 'agt, o6-methylguanine-dna methyltransferase, mgmt', 'ec_number': '2.1.1.63', 'ec': '2.1.1.63', 'engineered': 'yes'}}\n",
      "dict_keys(['name', 'head', 'idcode', 'deposition_date', 'release_date', 'structure_method', 'resolution', 'structure_reference', 'journal_reference', 'author', 'compound', 'source', 'has_missing_residues', 'missing_residues', 'keywords', 'journal'])\n"
     ]
    }
   ],
   "source": [
    "#Arquivo PDB usando Biopython\n",
    "from Bio.PDB import parse_pdb_header\n",
    "with open('1eh6_WT.pdb', \"r\") as pdbfile:\n",
    "    header_dict = parse_pdb_header(pdbfile)\n",
    "resolution = structure.header[\"resolution\"]\n",
    "compound = structure.header[\"compound\"]\n",
    "print(compound)\n",
    "\n"
   ]
  },
  {
   "cell_type": "code",
   "execution_count": 16,
   "metadata": {},
   "outputs": [
    {
     "name": "stdout",
     "output_type": "stream",
     "text": [
      "Structure exists: '.\\pdb1eh6.ent' \n",
      "{'1': {'misc': '', 'molecule': 'o6-alkylguanine-dna alkyltransferase', 'chain': 'a', 'synonym': 'agt, o6-methylguanine-dna methyltransferase, mgmt', 'ec_number': '2.1.1.63', 'ec': '2.1.1.63', 'engineered': 'yes'}}\n",
      "2.0\n",
      "2000-02-18\n",
      "2000-04-12\n",
      "[<Model id=0>]\n",
      "[<Chain id=A>]\n",
      "[<Residue CYS het=  resseq=5 icode= >, <Residue GLU het=  resseq=6 icode= >, <Residue MET het=  resseq=7 icode= >, <Residue LYS het=  resseq=8 icode= >, <Residue ARG het=  resseq=9 icode= >, <Residue THR het=  resseq=10 icode= >, <Residue THR het=  resseq=11 icode= >, <Residue LEU het=  resseq=12 icode= >, <Residue ASP het=  resseq=13 icode= >, <Residue SER het=  resseq=14 icode= >, <Residue PRO het=  resseq=15 icode= >, <Residue LEU het=  resseq=16 icode= >, <Residue GLY het=  resseq=17 icode= >, <Residue LYS het=  resseq=18 icode= >, <Residue LEU het=  resseq=19 icode= >, <Residue GLU het=  resseq=20 icode= >, <Residue LEU het=  resseq=21 icode= >, <Residue SER het=  resseq=22 icode= >, <Residue GLY het=  resseq=23 icode= >, <Residue CYS het=  resseq=24 icode= >, <Residue GLU het=  resseq=25 icode= >, <Residue GLN het=  resseq=26 icode= >, <Residue GLY het=  resseq=27 icode= >, <Residue LEU het=  resseq=28 icode= >, <Residue HIS het=  resseq=29 icode= >, <Residue GLU het=  resseq=30 icode= >, <Residue ILE het=  resseq=31 icode= >, <Residue LYS het=  resseq=32 icode= >, <Residue LEU het=  resseq=33 icode= >, <Residue LEU het=  resseq=34 icode= >, <Residue GLY het=  resseq=35 icode= >, <Residue GLU het=  resseq=45 icode= >, <Residue VAL het=  resseq=46 icode= >, <Residue PRO het=  resseq=47 icode= >, <Residue ALA het=  resseq=48 icode= >, <Residue PRO het=  resseq=49 icode= >, <Residue ALA het=  resseq=50 icode= >, <Residue ALA het=  resseq=51 icode= >, <Residue VAL het=  resseq=52 icode= >, <Residue LEU het=  resseq=53 icode= >, <Residue GLY het=  resseq=54 icode= >, <Residue GLY het=  resseq=55 icode= >, <Residue PRO het=  resseq=56 icode= >, <Residue GLU het=  resseq=57 icode= >, <Residue PRO het=  resseq=58 icode= >, <Residue LEU het=  resseq=59 icode= >, <Residue MET het=  resseq=60 icode= >, <Residue GLN het=  resseq=61 icode= >, <Residue CYS het=  resseq=62 icode= >, <Residue THR het=  resseq=63 icode= >, <Residue ALA het=  resseq=64 icode= >, <Residue TRP het=  resseq=65 icode= >, <Residue LEU het=  resseq=66 icode= >, <Residue ASN het=  resseq=67 icode= >, <Residue ALA het=  resseq=68 icode= >, <Residue TYR het=  resseq=69 icode= >, <Residue PHE het=  resseq=70 icode= >, <Residue HIS het=  resseq=71 icode= >, <Residue GLN het=  resseq=72 icode= >, <Residue PRO het=  resseq=73 icode= >, <Residue GLU het=  resseq=74 icode= >, <Residue ALA het=  resseq=75 icode= >, <Residue ILE het=  resseq=76 icode= >, <Residue GLU het=  resseq=77 icode= >, <Residue GLU het=  resseq=78 icode= >, <Residue PHE het=  resseq=79 icode= >, <Residue PRO het=  resseq=80 icode= >, <Residue VAL het=  resseq=81 icode= >, <Residue PRO het=  resseq=82 icode= >, <Residue ALA het=  resseq=83 icode= >, <Residue LEU het=  resseq=84 icode= >, <Residue HIS het=  resseq=85 icode= >, <Residue HIS het=  resseq=86 icode= >, <Residue PRO het=  resseq=87 icode= >, <Residue VAL het=  resseq=88 icode= >, <Residue PHE het=  resseq=89 icode= >, <Residue GLN het=  resseq=90 icode= >, <Residue GLN het=  resseq=91 icode= >, <Residue GLU het=  resseq=92 icode= >, <Residue SER het=  resseq=93 icode= >, <Residue PHE het=  resseq=94 icode= >, <Residue THR het=  resseq=95 icode= >, <Residue ARG het=  resseq=96 icode= >, <Residue GLN het=  resseq=97 icode= >, <Residue VAL het=  resseq=98 icode= >, <Residue LEU het=  resseq=99 icode= >, <Residue TRP het=  resseq=100 icode= >, <Residue LYS het=  resseq=101 icode= >, <Residue LEU het=  resseq=102 icode= >, <Residue LEU het=  resseq=103 icode= >, <Residue LYS het=  resseq=104 icode= >, <Residue VAL het=  resseq=105 icode= >, <Residue VAL het=  resseq=106 icode= >, <Residue LYS het=  resseq=107 icode= >, <Residue PHE het=  resseq=108 icode= >, <Residue GLY het=  resseq=109 icode= >, <Residue GLU het=  resseq=110 icode= >, <Residue VAL het=  resseq=111 icode= >, <Residue ILE het=  resseq=112 icode= >, <Residue SER het=  resseq=113 icode= >, <Residue TYR het=  resseq=114 icode= >, <Residue GLN het=  resseq=115 icode= >, <Residue GLN het=  resseq=116 icode= >, <Residue LEU het=  resseq=117 icode= >, <Residue ALA het=  resseq=118 icode= >, <Residue ALA het=  resseq=119 icode= >, <Residue LEU het=  resseq=120 icode= >, <Residue ALA het=  resseq=121 icode= >, <Residue GLY het=  resseq=122 icode= >, <Residue ASN het=  resseq=123 icode= >, <Residue PRO het=  resseq=124 icode= >, <Residue LYS het=  resseq=125 icode= >, <Residue ALA het=  resseq=126 icode= >, <Residue ALA het=  resseq=127 icode= >, <Residue ARG het=  resseq=128 icode= >, <Residue ALA het=  resseq=129 icode= >, <Residue VAL het=  resseq=130 icode= >, <Residue GLY het=  resseq=131 icode= >, <Residue GLY het=  resseq=132 icode= >, <Residue ALA het=  resseq=133 icode= >, <Residue MET het=  resseq=134 icode= >, <Residue ARG het=  resseq=135 icode= >, <Residue GLY het=  resseq=136 icode= >, <Residue ASN het=  resseq=137 icode= >, <Residue PRO het=  resseq=138 icode= >, <Residue VAL het=  resseq=139 icode= >, <Residue PRO het=  resseq=140 icode= >, <Residue ILE het=  resseq=141 icode= >, <Residue LEU het=  resseq=142 icode= >, <Residue ILE het=  resseq=143 icode= >, <Residue PRO het=  resseq=144 icode= >, <Residue CYS het=  resseq=145 icode= >, <Residue HIS het=  resseq=146 icode= >, <Residue ARG het=  resseq=147 icode= >, <Residue VAL het=  resseq=148 icode= >, <Residue VAL het=  resseq=149 icode= >, <Residue CYS het=  resseq=150 icode= >, <Residue SER het=  resseq=151 icode= >, <Residue SER het=  resseq=152 icode= >, <Residue GLY het=  resseq=153 icode= >, <Residue ALA het=  resseq=154 icode= >, <Residue VAL het=  resseq=155 icode= >, <Residue GLY het=  resseq=156 icode= >, <Residue ASN het=  resseq=157 icode= >, <Residue TYR het=  resseq=158 icode= >, <Residue SER het=  resseq=159 icode= >, <Residue GLY het=  resseq=160 icode= >, <Residue GLY het=  resseq=161 icode= >, <Residue LEU het=  resseq=162 icode= >, <Residue ALA het=  resseq=163 icode= >, <Residue VAL het=  resseq=164 icode= >, <Residue LYS het=  resseq=165 icode= >, <Residue GLU het=  resseq=166 icode= >, <Residue TRP het=  resseq=167 icode= >, <Residue LEU het=  resseq=168 icode= >, <Residue LEU het=  resseq=169 icode= >, <Residue ALA het=  resseq=170 icode= >, <Residue HIS het=  resseq=171 icode= >, <Residue GLU het=  resseq=172 icode= >, <Residue GLY het=  resseq=173 icode= >, <Residue HIS het=  resseq=174 icode= >, <Residue ARG het=  resseq=175 icode= >, <Residue LEU het=  resseq=176 icode= >, <Residue GLY het=  resseq=177 icode= >, <Residue LYS het=  resseq=178 icode= >, <Residue PRO het=  resseq=179 icode= >, <Residue GLY het=  resseq=180 icode= >, <Residue LEU het=  resseq=181 icode= >, <Residue ZN het=H_ZN resseq=208 icode= >, <Residue HOH het=W resseq=209 icode= >, <Residue HOH het=W resseq=210 icode= >, <Residue HOH het=W resseq=211 icode= >, <Residue HOH het=W resseq=212 icode= >, <Residue HOH het=W resseq=213 icode= >, <Residue HOH het=W resseq=214 icode= >, <Residue HOH het=W resseq=215 icode= >, <Residue HOH het=W resseq=216 icode= >, <Residue HOH het=W resseq=217 icode= >, <Residue HOH het=W resseq=218 icode= >, <Residue HOH het=W resseq=219 icode= >, <Residue HOH het=W resseq=220 icode= >, <Residue HOH het=W resseq=221 icode= >, <Residue HOH het=W resseq=222 icode= >, <Residue HOH het=W resseq=223 icode= >, <Residue HOH het=W resseq=224 icode= >, <Residue HOH het=W resseq=225 icode= >, <Residue HOH het=W resseq=226 icode= >, <Residue HOH het=W resseq=227 icode= >, <Residue HOH het=W resseq=228 icode= >, <Residue HOH het=W resseq=229 icode= >, <Residue HOH het=W resseq=230 icode= >, <Residue HOH het=W resseq=231 icode= >, <Residue HOH het=W resseq=232 icode= >, <Residue HOH het=W resseq=233 icode= >, <Residue HOH het=W resseq=234 icode= >, <Residue HOH het=W resseq=235 icode= >, <Residue HOH het=W resseq=236 icode= >, <Residue HOH het=W resseq=237 icode= >, <Residue HOH het=W resseq=238 icode= >, <Residue HOH het=W resseq=239 icode= >, <Residue HOH het=W resseq=240 icode= >, <Residue HOH het=W resseq=241 icode= >, <Residue HOH het=W resseq=242 icode= >, <Residue HOH het=W resseq=243 icode= >, <Residue HOH het=W resseq=244 icode= >, <Residue HOH het=W resseq=245 icode= >, <Residue HOH het=W resseq=246 icode= >, <Residue HOH het=W resseq=247 icode= >, <Residue HOH het=W resseq=248 icode= >, <Residue HOH het=W resseq=249 icode= >, <Residue HOH het=W resseq=250 icode= >, <Residue HOH het=W resseq=251 icode= >, <Residue HOH het=W resseq=252 icode= >, <Residue HOH het=W resseq=253 icode= >, <Residue HOH het=W resseq=254 icode= >, <Residue HOH het=W resseq=255 icode= >, <Residue HOH het=W resseq=256 icode= >, <Residue HOH het=W resseq=257 icode= >, <Residue HOH het=W resseq=258 icode= >, <Residue HOH het=W resseq=259 icode= >, <Residue HOH het=W resseq=260 icode= >, <Residue HOH het=W resseq=261 icode= >, <Residue HOH het=W resseq=262 icode= >, <Residue HOH het=W resseq=263 icode= >, <Residue HOH het=W resseq=264 icode= >, <Residue HOH het=W resseq=265 icode= >, <Residue HOH het=W resseq=266 icode= >, <Residue HOH het=W resseq=267 icode= >, <Residue HOH het=W resseq=268 icode= >, <Residue HOH het=W resseq=269 icode= >, <Residue HOH het=W resseq=270 icode= >, <Residue HOH het=W resseq=271 icode= >, <Residue HOH het=W resseq=272 icode= >, <Residue HOH het=W resseq=273 icode= >, <Residue HOH het=W resseq=274 icode= >, <Residue HOH het=W resseq=275 icode= >, <Residue HOH het=W resseq=276 icode= >, <Residue HOH het=W resseq=277 icode= >, <Residue HOH het=W resseq=278 icode= >, <Residue HOH het=W resseq=279 icode= >, <Residue HOH het=W resseq=280 icode= >, <Residue HOH het=W resseq=281 icode= >, <Residue HOH het=W resseq=282 icode= >, <Residue HOH het=W resseq=283 icode= >, <Residue HOH het=W resseq=284 icode= >, <Residue HOH het=W resseq=285 icode= >, <Residue HOH het=W resseq=286 icode= >, <Residue HOH het=W resseq=287 icode= >, <Residue HOH het=W resseq=288 icode= >, <Residue HOH het=W resseq=289 icode= >, <Residue HOH het=W resseq=290 icode= >, <Residue HOH het=W resseq=291 icode= >, <Residue HOH het=W resseq=292 icode= >, <Residue HOH het=W resseq=293 icode= >, <Residue HOH het=W resseq=294 icode= >, <Residue HOH het=W resseq=295 icode= >, <Residue HOH het=W resseq=296 icode= >, <Residue HOH het=W resseq=297 icode= >, <Residue HOH het=W resseq=298 icode= >, <Residue HOH het=W resseq=299 icode= >, <Residue HOH het=W resseq=300 icode= >, <Residue HOH het=W resseq=301 icode= >, <Residue HOH het=W resseq=302 icode= >, <Residue HOH het=W resseq=303 icode= >, <Residue HOH het=W resseq=304 icode= >, <Residue HOH het=W resseq=305 icode= >, <Residue HOH het=W resseq=306 icode= >, <Residue HOH het=W resseq=307 icode= >, <Residue HOH het=W resseq=308 icode= >, <Residue HOH het=W resseq=309 icode= >, <Residue HOH het=W resseq=310 icode= >, <Residue HOH het=W resseq=311 icode= >, <Residue HOH het=W resseq=312 icode= >, <Residue HOH het=W resseq=313 icode= >, <Residue HOH het=W resseq=314 icode= >, <Residue HOH het=W resseq=315 icode= >, <Residue HOH het=W resseq=316 icode= >, <Residue HOH het=W resseq=317 icode= >, <Residue HOH het=W resseq=318 icode= >, <Residue HOH het=W resseq=319 icode= >, <Residue HOH het=W resseq=320 icode= >, <Residue HOH het=W resseq=321 icode= >, <Residue HOH het=W resseq=322 icode= >, <Residue HOH het=W resseq=323 icode= >, <Residue HOH het=W resseq=324 icode= >, <Residue HOH het=W resseq=325 icode= >, <Residue HOH het=W resseq=326 icode= >, <Residue HOH het=W resseq=327 icode= >, <Residue HOH het=W resseq=328 icode= >, <Residue HOH het=W resseq=329 icode= >, <Residue HOH het=W resseq=330 icode= >, <Residue HOH het=W resseq=331 icode= >, <Residue HOH het=W resseq=332 icode= >, <Residue HOH het=W resseq=333 icode= >, <Residue HOH het=W resseq=334 icode= >, <Residue HOH het=W resseq=335 icode= >, <Residue HOH het=W resseq=336 icode= >, <Residue HOH het=W resseq=337 icode= >, <Residue HOH het=W resseq=338 icode= >, <Residue HOH het=W resseq=339 icode= >, <Residue HOH het=W resseq=340 icode= >, <Residue HOH het=W resseq=341 icode= >, <Residue HOH het=W resseq=342 icode= >, <Residue HOH het=W resseq=343 icode= >, <Residue HOH het=W resseq=344 icode= >, <Residue HOH het=W resseq=345 icode= >, <Residue HOH het=W resseq=346 icode= >, <Residue HOH het=W resseq=347 icode= >, <Residue HOH het=W resseq=348 icode= >, <Residue HOH het=W resseq=349 icode= >, <Residue HOH het=W resseq=350 icode= >, <Residue HOH het=W resseq=351 icode= >, <Residue HOH het=W resseq=352 icode= >, <Residue HOH het=W resseq=353 icode= >, <Residue HOH het=W resseq=354 icode= >, <Residue HOH het=W resseq=355 icode= >, <Residue HOH het=W resseq=356 icode= >, <Residue HOH het=W resseq=357 icode= >, <Residue HOH het=W resseq=358 icode= >, <Residue HOH het=W resseq=359 icode= >, <Residue HOH het=W resseq=360 icode= >, <Residue HOH het=W resseq=361 icode= >]\n",
      "[<Atom N>, <Atom CA>, <Atom C>, <Atom O>, <Atom CB>, <Atom CG>, <Atom CD1>, <Atom CD2>, <Atom CE1>, <Atom CE2>, <Atom CZ>, <Atom OH>]\n"
     ]
    }
   ],
   "source": [
    "from Bio.PDB import *\n",
    "pdb = PDBList()\n",
    "pdb.retrieve_pdb_file('1EH6', pdir ='.', file_format='pdb')\n",
    "parser = PDBParser(PERMISSIVE=True, QUIET=True)\n",
    "data = parser.get_structure('1EH6', '1eh6_WT.pdb')\n",
    "\n",
    "#print(data.header.keys())\n",
    "print(data.header['compound'])\n",
    "print(data.header['resolution'])\n",
    "print(data.header['deposition_date'])\n",
    "print(data.header['release_date'])\n",
    "\n",
    "#Show the number of models that the protein has (0= 1 model)\n",
    "model = data.get_models()\n",
    "models = list(model)\n",
    "print(models)\n",
    "\n",
    "#Show the chains\n",
    "chain = models[0].get_chains()\n",
    "chains = list(chain)\n",
    "print(chains)\n",
    "\n",
    "#Show the residues\n",
    "residue = chains[0].get_residues() #O número [0] é referente a chain A\n",
    "residues = list(residue)\n",
    "print(residues)\n",
    "\n",
    "#Show the atoms\n",
    "atom = residues[144].get_atoms() #Os números são referentes a cada aminoácido\n",
    "atoms = list(atom)\n",
    "print(atoms)\n"
   ]
  },
  {
   "cell_type": "code",
   "execution_count": 20,
   "metadata": {},
   "outputs": [
    {
     "name": "stdout",
     "output_type": "stream",
     "text": [
      "        0      1      2      3      4\n",
      "A:   1.00   0.00   0.00   2.00   1.00\n",
      "C:   0.00   2.00   0.00   1.00   0.00\n",
      "G:   1.00   0.00   1.00   0.00   2.00\n",
      "T:   1.00   1.00   2.00   0.00   0.00\n",
      "\n"
     ]
    }
   ],
   "source": [
    "from Bio import motifs\n",
    "from Bio.Seq import Seq\n",
    "\n",
    "motif = [Seq('ATGCA'),\n",
    "          Seq('TCTAG'),\n",
    "          Seq('GCTAG')]\n",
    "\n",
    "seq = motifs.create(motif)\n",
    "print(seq.counts)"
   ]
  },
  {
   "cell_type": "code",
   "execution_count": null,
   "metadata": {},
   "outputs": [],
   "source": [
    "from Bio.PDB import PDBParser\n",
    "import nglview as nv\n",
    "\n",
    "parser = PDBParser()\n",
    "structure = parser.get_structure('1EH6', '1eh6_WT.pdb')\n",
    "structure\n",
    "\n",
    "for chain in structure[0]:\n",
    "    print(f'chain ID: {chain.id}')"
   ]
  },
  {
   "cell_type": "code",
   "execution_count": null,
   "metadata": {},
   "outputs": [],
   "source": [
    "#Arquivo FASTA\n",
    "from Bio import SeqIO\n",
    "for seq_record in SeqIO.parse(\"1eh6.fasta\", \"fasta\"):\n",
    "    print(seq_record.id) #Mostra o nome do arquivo\n",
    "    print(repr(seq_record.seq)) #Mostra a sequência\n",
    "    print(len(seq_record)) # Mostra a quantidade de aminoácidos na sequência"
   ]
  },
  {
   "cell_type": "code",
   "execution_count": null,
   "metadata": {},
   "outputs": [],
   "source": [
    "#Arquivo GenBank\n",
    "from Bio import SeqIO\n",
    "for seq_record in SeqIO.parse(\"1eh6.gbk\", \"genbank\"):\n",
    "    print(seq_record.id) #Mostra o nome do arquivo\n",
    "    print(repr(seq_record.seq)) #Mostra a sequência\n",
    "    print(len(seq_record)) # Mostra a quantidade de aminoácidos na sequência"
   ]
  },
  {
   "cell_type": "code",
   "execution_count": 13,
   "metadata": {},
   "outputs": [
    {
     "name": "stdout",
     "output_type": "stream",
     "text": [
      "GATCGATGGGCCTATATAGGATCGAAAATCGC\n",
      "1 G\n",
      "2 A\n",
      "3 T\n",
      "4 C\n",
      "5 G\n",
      "6 A\n",
      "7 T\n",
      "8 G\n",
      "9 G\n",
      "10 G\n",
      "11 C\n",
      "12 C\n",
      "13 T\n",
      "14 A\n",
      "15 T\n",
      "16 A\n",
      "17 T\n",
      "18 A\n",
      "19 G\n",
      "20 G\n",
      "21 A\n",
      "22 T\n",
      "23 C\n",
      "24 G\n",
      "25 A\n",
      "26 A\n",
      "27 A\n",
      "28 A\n",
      "29 T\n",
      "30 C\n",
      "31 G\n",
      "32 C\n",
      "\u001b[32mA sequência possui 32 bp.\n",
      "\u001b[33m46.875% de GC.\n",
      "\u001b[31mmRNA: AUGGCCAUUGUAAUGGGCCGCUGAAAGGGUGCCCGAUAG\n",
      "\u001b[35mProtein: MAIVMGR*KGAR*\n"
     ]
    }
   ],
   "source": [
    "#Analisar e Manipular Sequências de Nucleotídeos\n",
    "from Bio.Seq import Seq \n",
    "from Bio.SeqUtils import gc_fraction\n",
    "\n",
    "mySeq = Seq('GATCGATGGGCCTATATAGGATCGAAAATCGC')  #Cadastrar uma sequencia como objeto\n",
    "print(mySeq)\n",
    "mySeq.complement() #Mostrar o complemento da sequência\n",
    "mySeq.reverse_complement() #Mostrar o complemento da sequência antiparalela\n",
    "\n",
    "#Mostrar o index e a base respectiva\n",
    "for index, letter in enumerate(mySeq): \n",
    "    print(f\"{index+1} {letter}\")\n",
    "print(f'\\033[32mA sequência possui {len(mySeq)} bp.')\n",
    "\n",
    "#Calcular a porcentagem de GC\n",
    "my_seq = Seq(\"GATCGATGGGCCTATATAGGATCGAAAATCGC\")\n",
    "print(f'\\033[33m{gc_fraction(my_seq)*100}% de GC.')\n",
    "\n",
    "#Transcrição (mRNA)\n",
    "DNA = Seq(\"ATGGCCATTGTAATGGGCCGCTGAAAGGGTGCCCGATAG\")\n",
    "mRNA = DNA.transcribe()\n",
    "print(f'\\033[31mmRNA: {mRNA}')\n",
    "\n",
    "#Tradução (Proteína)\n",
    "print(f'\\033[35mProtein: {mRNA.translate()}')"
   ]
  },
  {
   "cell_type": "code",
   "execution_count": 38,
   "metadata": {},
   "outputs": [
    {
     "name": "stdout",
     "output_type": "stream",
     "text": [
      "\u001b[32mOriginal: GATCGATGGGCCTATATAGGATCGAAAATCGC\n",
      "\u001b[34mModificada: CGCTAAAAGCTAGGATATATCCGGGTCGCAG\n"
     ]
    }
   ],
   "source": [
    "#Fazer uma sequência que possa ser modificada\n",
    "from Bio.Seq import MutableSeq\n",
    "mutable_seq = MutableSeq(mySeq)\n",
    "print(f'\\033[32mOriginal: {mutable_seq}')\n",
    "mutable_seq[5] = \"C\"\n",
    "mutable_seq.remove(\"T\")\n",
    "mutable_seq.reverse()\n",
    "print(f'\\033[34mModificada: {mutable_seq}')"
   ]
  }
 ],
 "metadata": {
  "kernelspec": {
   "display_name": "Python 3",
   "language": "python",
   "name": "python3"
  },
  "language_info": {
   "codemirror_mode": {
    "name": "ipython",
    "version": 3
   },
   "file_extension": ".py",
   "mimetype": "text/x-python",
   "name": "python",
   "nbconvert_exporter": "python",
   "pygments_lexer": "ipython3",
   "version": "3.9.13"
  }
 },
 "nbformat": 4,
 "nbformat_minor": 2
}
